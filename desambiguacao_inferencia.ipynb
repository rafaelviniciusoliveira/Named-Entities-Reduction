{
 "cells": [
  {
   "cell_type": "code",
   "execution_count": 1,
   "metadata": {},
   "outputs": [],
   "source": [
    "import numpy as numpy\n",
    "import pandas as pandas\n",
    "import json\n",
    "import re\n",
    "import ast\n",
    "\n",
    "\n",
    "df = pandas.read_csv('inferencia.csv')\n",
    "df['Farmacos'] = df['Farmacos'].apply(ast.literal_eval)"
   ]
  },
  {
   "cell_type": "markdown",
   "metadata": {},
   "source": [
    "# Previous work\n",
    "\n",
    "The previous step was the development of a entity recognition model to identify drugs on legal texts. The model was trained with SpaCy and the dataset resulting dataset is shown below.\n",
    "\n",
    "The comumn \"Farmacos\" contains the drugs recognized by the model for each text."
   ]
  },
  {
   "cell_type": "code",
   "execution_count": 36,
   "metadata": {},
   "outputs": [
    {
     "data": {
      "text/html": [
       "<div>\n",
       "<style scoped>\n",
       "    .dataframe tbody tr th:only-of-type {\n",
       "        vertical-align: middle;\n",
       "    }\n",
       "\n",
       "    .dataframe tbody tr th {\n",
       "        vertical-align: top;\n",
       "    }\n",
       "\n",
       "    .dataframe thead th {\n",
       "        text-align: right;\n",
       "    }\n",
       "</style>\n",
       "<table border=\"1\" class=\"dataframe\">\n",
       "  <thead>\n",
       "    <tr style=\"text-align: right;\">\n",
       "      <th></th>\n",
       "      <th>id</th>\n",
       "      <th>text</th>\n",
       "      <th>Farmacos</th>\n",
       "    </tr>\n",
       "  </thead>\n",
       "  <tbody>\n",
       "    <tr>\n",
       "      <th>0</th>\n",
       "      <td>4031</td>\n",
       "      <td>.sentença nº. /2017 - tipo: bpje n º. 0804317-...</td>\n",
       "      <td>[FRATURAS, FORTÉO, TERIPARATIDA DERIVADA DE, F...</td>\n",
       "    </tr>\n",
       "    <tr>\n",
       "      <th>1</th>\n",
       "      <td>4032</td>\n",
       "      <td>processo nº: 0809729-87.2020.4.05.8100 - proce...</td>\n",
       "      <td>[]</td>\n",
       "    </tr>\n",
       "    <tr>\n",
       "      <th>2</th>\n",
       "      <td>4033</td>\n",
       "      <td>pessoa humana, uma vez que se encontra intimam...</td>\n",
       "      <td>[SANDOSTATIN]</td>\n",
       "    </tr>\n",
       "    <tr>\n",
       "      <th>3</th>\n",
       "      <td>4034</td>\n",
       "      <td>sentença/2017 - tipo bprocesso: 0806234-74.201...</td>\n",
       "      <td>[ZYTIGA]</td>\n",
       "    </tr>\n",
       "    <tr>\n",
       "      <th>4</th>\n",
       "      <td>4035</td>\n",
       "      <td>aos municípios para o pagamento de ações e ser...</td>\n",
       "      <td>[PEGVISOMANTO]</td>\n",
       "    </tr>\n",
       "    <tr>\n",
       "      <th>...</th>\n",
       "      <td>...</td>\n",
       "      <td>...</td>\n",
       "      <td>...</td>\n",
       "    </tr>\n",
       "    <tr>\n",
       "      <th>395</th>\n",
       "      <td>4426</td>\n",
       "      <td>presença cumulativa dos seguintes requisitos: ...</td>\n",
       "      <td>[VIDAZA, AZACITIDINA]</td>\n",
       "    </tr>\n",
       "    <tr>\n",
       "      <th>396</th>\n",
       "      <td>4427</td>\n",
       "      <td>processo nº: 0802964-42.2016.4.05.8100 - proce...</td>\n",
       "      <td>[RITUXIMABE, RITUXIMABE, MABTHERA]</td>\n",
       "    </tr>\n",
       "    <tr>\n",
       "      <th>397</th>\n",
       "      <td>4428</td>\n",
       "      <td>poder judiciário justiça federal de primeiro g...</td>\n",
       "      <td>[REVOLADE, ELTROMBOPAG, REVOLADE]</td>\n",
       "    </tr>\n",
       "    <tr>\n",
       "      <th>398</th>\n",
       "      <td>4429</td>\n",
       "      <td>na constituição federal. o ponto turbulento re...</td>\n",
       "      <td>[ZYTIGA]</td>\n",
       "    </tr>\n",
       "    <tr>\n",
       "      <th>399</th>\n",
       "      <td>4430</td>\n",
       "      <td>esclerose múltipla    forma remitente recor...</td>\n",
       "      <td>[NATALIZUMABE, OCREVUS]</td>\n",
       "    </tr>\n",
       "  </tbody>\n",
       "</table>\n",
       "<p>400 rows × 3 columns</p>\n",
       "</div>"
      ],
      "text/plain": [
       "       id                                               text  \\\n",
       "0    4031  .sentença nº. /2017 - tipo: bpje n º. 0804317-...   \n",
       "1    4032  processo nº: 0809729-87.2020.4.05.8100 - proce...   \n",
       "2    4033  pessoa humana, uma vez que se encontra intimam...   \n",
       "3    4034  sentença/2017 - tipo bprocesso: 0806234-74.201...   \n",
       "4    4035  aos municípios para o pagamento de ações e ser...   \n",
       "..    ...                                                ...   \n",
       "395  4426  presença cumulativa dos seguintes requisitos: ...   \n",
       "396  4427  processo nº: 0802964-42.2016.4.05.8100 - proce...   \n",
       "397  4428  poder judiciário justiça federal de primeiro g...   \n",
       "398  4429  na constituição federal. o ponto turbulento re...   \n",
       "399  4430     esclerose múltipla    forma remitente recor...   \n",
       "\n",
       "                                              Farmacos  \n",
       "0    [FRATURAS, FORTÉO, TERIPARATIDA DERIVADA DE, F...  \n",
       "1                                                   []  \n",
       "2                                        [SANDOSTATIN]  \n",
       "3                                             [ZYTIGA]  \n",
       "4                                       [PEGVISOMANTO]  \n",
       "..                                                 ...  \n",
       "395                              [VIDAZA, AZACITIDINA]  \n",
       "396                 [RITUXIMABE, RITUXIMABE, MABTHERA]  \n",
       "397                  [REVOLADE, ELTROMBOPAG, REVOLADE]  \n",
       "398                                           [ZYTIGA]  \n",
       "399                            [NATALIZUMABE, OCREVUS]  \n",
       "\n",
       "[400 rows x 3 columns]"
      ]
     },
     "execution_count": 36,
     "metadata": {},
     "output_type": "execute_result"
    }
   ],
   "source": [
    "df"
   ]
  },
  {
   "cell_type": "markdown",
   "metadata": {},
   "source": [
    "# Lets explore the labels\n"
   ]
  },
  {
   "cell_type": "code",
   "execution_count": 2,
   "metadata": {},
   "outputs": [
    {
     "data": {
      "text/plain": [
       "722"
      ]
     },
     "execution_count": 2,
     "metadata": {},
     "output_type": "execute_result"
    }
   ],
   "source": [
    "# Total number of drug recognized (not unique)\n",
    "num_total_farmacos = df['Farmacos'].apply(len).sum()\n",
    "num_total_farmacos"
   ]
  },
  {
   "cell_type": "code",
   "execution_count": 38,
   "metadata": {},
   "outputs": [
    {
     "name": "stdout",
     "output_type": "stream",
     "text": [
      "185\n"
     ]
    },
    {
     "data": {
      "text/plain": [
       "['SOMATULINE AUTOGEL',\n",
       " 'DALINVI',\n",
       " 'DOXORRUBICINA',\n",
       " 'ABIRATERONA',\n",
       " 'NESTE CENÁRIO CLÍNICO',\n",
       " 'LIPOSSOMAL',\n",
       " 'INOTERSEN',\n",
       " 'VENCLEXTA',\n",
       " 'KYPROLIS',\n",
       " 'FRATURAS',\n",
       " 'BRENTUXIMAB VEDOTINA',\n",
       " 'ACETATO DE OCTREOTIDA',\n",
       " 'ILOPROST',\n",
       " 'BELIMUMABE',\n",
       " 'IBRANCE',\n",
       " 'REVOLADE',\n",
       " 'ESILATO DE NINTEDANIBE',\n",
       " 'CYSTAGON',\n",
       " 'STELARA',\n",
       " 'CDB',\n",
       " 'RCUI',\n",
       " 'ACETATO ABIRATERONA',\n",
       " 'KUVAN',\n",
       " 'FORTEO',\n",
       " 'TRASTUZUMABE',\n",
       " 'REVLIMID',\n",
       " 'METOTREXATO',\n",
       " 'TEMOZOLAMINA',\n",
       " 'JAVAKI',\n",
       " 'REPLAGAL',\n",
       " 'NATALIZUMABE',\n",
       " 'PLERIXAFOR',\n",
       " 'ADCETRIS',\n",
       " 'DEXAMETASONA',\n",
       " 'AFINITOR',\n",
       " 'HERCEPTIN',\n",
       " 'ENZALUTAMIDA',\n",
       " 'ZYTIGA',\n",
       " 'RANIBIZUMABE',\n",
       " 'INTERFERON ALFA',\n",
       " 'NEXAVAR',\n",
       " 'ELETROMBOPAG OLAMINA',\n",
       " 'USTEQUINUMABE',\n",
       " 'MABTHERA',\n",
       " 'ZOLADEX',\n",
       " 'ILARIS',\n",
       " 'OCREVUS',\n",
       " 'ACETATO DE CIPROTERONA',\n",
       " 'VERTEBRAIS',\n",
       " 'ALECENSA',\n",
       " 'GAZYVA',\n",
       " 'MIGALASTAT',\n",
       " 'FORTÉO',\n",
       " 'EVEROLIMUS',\n",
       " 'VENVANSE',\n",
       " 'REPAGLAL',\n",
       " 'ADALIMUMABE',\n",
       " 'NUSINERSEN',\n",
       " 'TEMOZOLOMIDA',\n",
       " 'OPDIVO',\n",
       " 'HUMIRA',\n",
       " 'METILFENIDATO',\n",
       " 'BRENTUXIMAB VEDOTIN',\n",
       " 'VENETOCLAX',\n",
       " 'TEMOZOLAMIDA',\n",
       " 'ACETATO DE LANREOTIDA',\n",
       " 'SANDOSTANTIN LAR',\n",
       " 'ERBITUX',\n",
       " 'BRIGATINIBE',\n",
       " 'ACETATO',\n",
       " 'BRENTUXIMAB VEDITIN',\n",
       " 'CETUXIMABE',\n",
       " 'FLUDARABINA',\n",
       " 'LENVIMA',\n",
       " 'ADALIMIMABE',\n",
       " 'PEGVISOMANTO',\n",
       " 'ALFAGALSIDASE',\n",
       " 'DACLATASVIR',\n",
       " 'SOLIRIS',\n",
       " 'VEDOTINA',\n",
       " 'RUXOLITINIBE',\n",
       " 'OFEV',\n",
       " 'TAXOL',\n",
       " 'ZITIGA',\n",
       " 'REBIF',\n",
       " 'IMBRUVICA',\n",
       " 'TALIDOMIDA',\n",
       " 'VELCADE',\n",
       " 'ALFADORNASE',\n",
       " 'TEMODAL',\n",
       " 'ATALUREN',\n",
       " 'ORKAMBI',\n",
       " 'KEPPRA',\n",
       " 'CALOGEN',\n",
       " 'OCTREOTIDE',\n",
       " 'LEVANTINIBE',\n",
       " 'RITUXIMABE',\n",
       " 'ACITRETINA',\n",
       " 'GCSF',\n",
       " 'IRESSA',\n",
       " 'ICATIBANTO',\n",
       " 'NIVOLUMABE',\n",
       " 'MELFALANO',\n",
       " 'YERVOY',\n",
       " 'CARBOPLATINA',\n",
       " 'ESBRIET',\n",
       " 'SUNITINIBE',\n",
       " 'OCTREOTIDA',\n",
       " 'ELAPRASE',\n",
       " 'AVASTIN',\n",
       " 'SUTENT',\n",
       " 'LENVATINIBE',\n",
       " 'CRIZOTINIBE',\n",
       " 'PAZOPANIB',\n",
       " 'ECULIZUMABE',\n",
       " 'RILUTEK',\n",
       " 'OCRELIZUMABE',\n",
       " 'INFLIXIMABE',\n",
       " 'IVACAFTOR',\n",
       " 'DACARBAZINA',\n",
       " 'XALKORI',\n",
       " 'TEGSEDI',\n",
       " 'ELTROMBOPAGUE OLAMINA',\n",
       " 'BLINCYTO',\n",
       " 'TESTOSTERONA',\n",
       " 'BEVACIZUMABE',\n",
       " 'IBRUTINIBE',\n",
       " 'AZATACIDINA',\n",
       " 'VOTRIENT',\n",
       " 'DARATUMUMABE',\n",
       " 'ALIMTA',\n",
       " 'PIRFENIDONA',\n",
       " 'SPINRAZA',\n",
       " 'ESTILATO DE NINTEDANIBE',\n",
       " 'TOPIRAMATO',\n",
       " 'BORTEZOMIBE',\n",
       " 'BRENTUXIMABE VEDOTIN',\n",
       " 'FABRAZYME',\n",
       " 'OBINUTUZUMAB',\n",
       " 'DACOGEN',\n",
       " 'MOZOBIL',\n",
       " 'PEMETREXEDE',\n",
       " 'KADCYLA',\n",
       " 'AUTISTA',\n",
       " 'SANDOSTATIN LAR',\n",
       " 'PERTUZUMABE',\n",
       " 'DOXOPEG',\n",
       " 'PERJETA',\n",
       " 'NUSINERSENA',\n",
       " 'GEFINITIBE',\n",
       " 'TRANSLARNA',\n",
       " 'LUMACAFTOR',\n",
       " 'CARFILZOMIBE',\n",
       " 'TERIPARATIDA DERIVADA DE',\n",
       " 'TARCEVA',\n",
       " 'XTADI',\n",
       " 'AVANÇADO',\n",
       " 'LUCENTIS',\n",
       " 'BEVACIZUMAB',\n",
       " 'SOFOSBUVIR',\n",
       " 'BRENTUXIMABE',\n",
       " 'GLICOCORTICOIDE',\n",
       " 'CLORIDRATO DE ALECTINIBE',\n",
       " 'VENTAVIS',\n",
       " 'HEMATINA',\n",
       " 'CICLOFOSFAMIDA',\n",
       " 'JAKAVI',\n",
       " 'DECITABINA',\n",
       " 'ADEMPAS',\n",
       " 'APLV',\n",
       " 'ELTROMBOPAG',\n",
       " 'CREON',\n",
       " 'XTANDI',\n",
       " 'SORAFENIBE',\n",
       " 'TERIPARATIDE',\n",
       " 'BENLYSTA',\n",
       " 'CETUXIMAB',\n",
       " 'VIDAZA',\n",
       " 'SANDOSTATIN',\n",
       " 'OBINUTUZUMABE',\n",
       " 'TRANSTUZUMABE ENTASINA',\n",
       " 'VEDOLIZUMABE',\n",
       " 'SUSTENT',\n",
       " 'PAZOPANIBE',\n",
       " 'AZACITIDINA']"
      ]
     },
     "execution_count": 38,
     "metadata": {},
     "output_type": "execute_result"
    }
   ],
   "source": [
    "# Function to generate a list of unique drug\n",
    "def lista_farmacos_unicos(farmacos):    \n",
    "    \n",
    "    # Iniciate a empty set to store the unique names\n",
    "    farmacos_unic = set()\n",
    "\n",
    "    # Iterate over each list in the list of lists\n",
    "    for lista in farmacos:\n",
    "        # Add all elements from the current list to the unique name set\n",
    "        farmacos_unic.update(lista)\n",
    "\n",
    "    # Convert the set of unique names back to a list (optional)\n",
    "    farmacos_unic = list(farmacos_unic)\n",
    "    return farmacos_unic\n",
    "\n",
    "farmacos_unic = lista_farmacos_unicos(df['Farmacos'])\n",
    "\n",
    "# Print the number of unique names\n",
    "print(len(farmacos_unic))\n",
    "\n",
    "# Print the inference labels \n",
    "farmacos_unic"
   ]
  },
  {
   "cell_type": "markdown",
   "metadata": {},
   "source": [
    "# Levenshtein Distance\n",
    "\n",
    "We could see that we have 185 unique labels, with a total 722 labels recognized. A common problem on entity recognition is ambiguity, where the same entity has a different meaning depending on the context. In this case, we lead with something like the opposite. We have different labels that refer to the same drug. This situation happens because some texts contains the active ingredient, the commercial name or both. In the scenario of Business Intelligence, that is a problem. Besides that, there are always typing erros.  So, we are going to use the levenshtein distance to identify the variations of the same name and reduce them into only one."
   ]
  },
  {
   "cell_type": "code",
   "execution_count": 39,
   "metadata": {},
   "outputs": [],
   "source": [
    "import textdistance\n",
    "\n",
    "# Function to calculate the Levenshtein distance between two elements\n",
    "def levenshtein_distance(s1, s2):\n",
    "    return textdistance.levenshtein.distance(s1, s2)\n",
    "\n",
    "# Function to find pairs with smallest Levenshtein distance\n",
    "def encontrar_pares_menor_distancia(lista):\n",
    "    menor_distancia = float('inf')\n",
    "    pares_menor_distancia = []\n",
    "\n",
    "    for i in range(len(lista)):\n",
    "        for j in range(i + 1, len(lista)):\n",
    "            distancia = levenshtein_distance(lista[i], lista[j])\n",
    "            if distancia < menor_distancia and distancia != 0:\n",
    "                menor_distancia = distancia\n",
    "                pares_menor_distancia = [(lista[i], lista[j])]\n",
    "            elif distancia == menor_distancia:\n",
    "                pares_menor_distancia.append((lista[i], lista[j]))\n",
    "    return pares_menor_distancia\n",
    "\n",
    "resultado = encontrar_pares_menor_distancia(farmacos_unic)"
   ]
  },
  {
   "cell_type": "code",
   "execution_count": 40,
   "metadata": {},
   "outputs": [
    {
     "data": {
      "text/plain": [
       "[('ADALIMUMABE', 'ADALIMIMABE'),\n",
       " ('BEVACIZUMABE', 'BEVACIZUMAB'),\n",
       " ('BRENTUXIMAB VEDOTIN', 'BRENTUXIMAB VEDITIN'),\n",
       " ('BRENTUXIMAB VEDOTIN', 'BRENTUXIMABE VEDOTIN'),\n",
       " ('BRENTUXIMAB VEDOTINA', 'BRENTUXIMAB VEDOTIN'),\n",
       " ('CETUXIMABE', 'CETUXIMAB'),\n",
       " ('ESILATO DE NINTEDANIBE', 'ESTILATO DE NINTEDANIBE'),\n",
       " ('FORTEO', 'FORTÉO'),\n",
       " ('NUSINERSEN', 'NUSINERSENA'),\n",
       " ('OBINUTUZUMAB', 'OBINUTUZUMABE'),\n",
       " ('OCTREOTIDE', 'OCTREOTIDA'),\n",
       " ('PAZOPANIB', 'PAZOPANIBE'),\n",
       " ('SANDOSTANTIN LAR', 'SANDOSTATIN LAR'),\n",
       " ('SUTENT', 'SUSTENT'),\n",
       " ('TEMOZOLAMINA', 'TEMOZOLAMIDA'),\n",
       " ('TEMOZOLOMIDA', 'TEMOZOLAMIDA'),\n",
       " ('XTADI', 'XTANDI'),\n",
       " ('ZYTIGA', 'ZITIGA')]"
      ]
     },
     "execution_count": 40,
     "metadata": {},
     "output_type": "execute_result"
    }
   ],
   "source": [
    "import itertools\n",
    "\n",
    "#Function to remove duplicated pairs\n",
    "def removeDuplicates(lst):\n",
    "    lst.sort()\n",
    "    grouped = itertools.groupby(lst)\n",
    "    unique = [key for key,_ in grouped]\n",
    "    return unique\n",
    " \n",
    "resultado = removeDuplicates(resultado)\n",
    "resultado"
   ]
  },
  {
   "cell_type": "code",
   "execution_count": 41,
   "metadata": {},
   "outputs": [],
   "source": [
    "from collections import defaultdict\n",
    "\n",
    "def agrupar_tuplas(tuplas):\n",
    "    # Create a dictionary to map each node to the set of nodes connected to it\n",
    "    graph = defaultdict(set)\n",
    "    for tupla in tuplas:\n",
    "        for elemento in tupla:\n",
    "            graph[elemento].update(tupla)\n",
    "\n",
    "    # Function to find all nodes connected to a given node\n",
    "    def encontrar_conectados(nodo, visitados):\n",
    "        visitados.add(nodo)\n",
    "        for vizinho in graph[nodo]:\n",
    "            if vizinho not in visitados:\n",
    "                encontrar_conectados(vizinho, visitados)\n",
    "\n",
    "    # Find groups of connected elements and group their corresponding tuples\n",
    "    grupos = []\n",
    "    visitados = set()\n",
    "    for nodo in graph:\n",
    "        if nodo not in visitados:\n",
    "            grupo = set()\n",
    "            encontrar_conectados(nodo, grupo)\n",
    "            novo_grupo = [tupla for tupla in tuplas if any(elem in grupo for elem in tupla)]\n",
    "            if novo_grupo not in grupos:\n",
    "                grupos.append(novo_grupo)\n",
    "\n",
    "    return grupos\n",
    "\n",
    "tuplas_combinadas = agrupar_tuplas(resultado)"
   ]
  },
  {
   "cell_type": "markdown",
   "metadata": {},
   "source": [
    "# Typing erros\n",
    "\n",
    "Those are some variations of the same name. But how can we find the correct one? That is simple. We just need to compare to a certified document that contains the medicine registration. In this case, the anvisa table is consulted."
   ]
  },
  {
   "cell_type": "code",
   "execution_count": 42,
   "metadata": {},
   "outputs": [
    {
     "data": {
      "text/plain": [
       "[[('ADALIMUMABE', 'ADALIMIMABE')],\n",
       " [('BEVACIZUMABE', 'BEVACIZUMAB')],\n",
       " [('BRENTUXIMAB VEDOTIN', 'BRENTUXIMAB VEDITIN'),\n",
       "  ('BRENTUXIMAB VEDOTIN', 'BRENTUXIMABE VEDOTIN'),\n",
       "  ('BRENTUXIMAB VEDOTINA', 'BRENTUXIMAB VEDOTIN')],\n",
       " [('CETUXIMABE', 'CETUXIMAB')],\n",
       " [('ESILATO DE NINTEDANIBE', 'ESTILATO DE NINTEDANIBE')],\n",
       " [('FORTEO', 'FORTÉO')],\n",
       " [('NUSINERSEN', 'NUSINERSENA')],\n",
       " [('OBINUTUZUMAB', 'OBINUTUZUMABE')],\n",
       " [('OCTREOTIDE', 'OCTREOTIDA')],\n",
       " [('PAZOPANIB', 'PAZOPANIBE')],\n",
       " [('SANDOSTANTIN LAR', 'SANDOSTATIN LAR')],\n",
       " [('SUTENT', 'SUSTENT')],\n",
       " [('TEMOZOLAMINA', 'TEMOZOLAMIDA'), ('TEMOZOLOMIDA', 'TEMOZOLAMIDA')],\n",
       " [('XTADI', 'XTANDI')],\n",
       " [('ZYTIGA', 'ZITIGA')]]"
      ]
     },
     "execution_count": 42,
     "metadata": {},
     "output_type": "execute_result"
    }
   ],
   "source": [
    "tuplas_combinadas"
   ]
  },
  {
   "cell_type": "code",
   "execution_count": 43,
   "metadata": {},
   "outputs": [],
   "source": [
    "# Function to transform the list of tuple lists into a unique list for each tuple list\n",
    "def transformar_lista(lista_de_tuplas):\n",
    "    lista_final = []\n",
    "    for sublist in lista_de_tuplas:\n",
    "        elementos_unicos = set()\n",
    "        for tupla in sublist:\n",
    "            elementos_unicos.update(tupla)\n",
    "        lista_final.append(list(elementos_unicos))\n",
    "    return lista_final\n",
    "\n",
    "listas_combinadas = transformar_lista(tuplas_combinadas)"
   ]
  },
  {
   "cell_type": "code",
   "execution_count": 44,
   "metadata": {},
   "outputs": [
    {
     "data": {
      "text/plain": [
       "[['ADALIMUMABE', 'ADALIMIMABE'],\n",
       " ['BEVACIZUMAB', 'BEVACIZUMABE'],\n",
       " ['BRENTUXIMAB VEDOTINA',\n",
       "  'BRENTUXIMABE VEDOTIN',\n",
       "  'BRENTUXIMAB VEDITIN',\n",
       "  'BRENTUXIMAB VEDOTIN'],\n",
       " ['CETUXIMAB', 'CETUXIMABE'],\n",
       " ['ESILATO DE NINTEDANIBE', 'ESTILATO DE NINTEDANIBE'],\n",
       " ['FORTÉO', 'FORTEO'],\n",
       " ['NUSINERSEN', 'NUSINERSENA'],\n",
       " ['OBINUTUZUMABE', 'OBINUTUZUMAB'],\n",
       " ['OCTREOTIDA', 'OCTREOTIDE'],\n",
       " ['PAZOPANIBE', 'PAZOPANIB'],\n",
       " ['SANDOSTATIN LAR', 'SANDOSTANTIN LAR'],\n",
       " ['SUTENT', 'SUSTENT'],\n",
       " ['TEMOZOLAMIDA', 'TEMOZOLOMIDA', 'TEMOZOLAMINA'],\n",
       " ['XTADI', 'XTANDI'],\n",
       " ['ZITIGA', 'ZYTIGA']]"
      ]
     },
     "execution_count": 44,
     "metadata": {},
     "output_type": "execute_result"
    }
   ],
   "source": [
    "listas_combinadas"
   ]
  },
  {
   "cell_type": "markdown",
   "metadata": {},
   "source": [
    "# Comparison with anvisa table\n",
    "\n",
    "The anvisa table below contains the commercial name and the corresponding active ingredient"
   ]
  },
  {
   "cell_type": "code",
   "execution_count": 45,
   "metadata": {},
   "outputs": [
    {
     "data": {
      "text/html": [
       "<div>\n",
       "<style scoped>\n",
       "    .dataframe tbody tr th:only-of-type {\n",
       "        vertical-align: middle;\n",
       "    }\n",
       "\n",
       "    .dataframe tbody tr th {\n",
       "        vertical-align: top;\n",
       "    }\n",
       "\n",
       "    .dataframe thead th {\n",
       "        text-align: right;\n",
       "    }\n",
       "</style>\n",
       "<table border=\"1\" class=\"dataframe\">\n",
       "  <thead>\n",
       "    <tr style=\"text-align: right;\">\n",
       "      <th></th>\n",
       "      <th>nome_comercial</th>\n",
       "      <th>principio_ativo</th>\n",
       "    </tr>\n",
       "  </thead>\n",
       "  <tbody>\n",
       "    <tr>\n",
       "      <th>0</th>\n",
       "      <td>BAYCUTEN N</td>\n",
       "      <td>21-ACETATO DE DEXAMETASONA;CLOTRIMAZOL</td>\n",
       "    </tr>\n",
       "    <tr>\n",
       "      <th>1</th>\n",
       "      <td>ORENCIA</td>\n",
       "      <td>ABATACEPTE</td>\n",
       "    </tr>\n",
       "    <tr>\n",
       "      <th>4</th>\n",
       "      <td>REOPRO</td>\n",
       "      <td>ABCIXIMABE</td>\n",
       "    </tr>\n",
       "    <tr>\n",
       "      <th>6</th>\n",
       "      <td>VERZENIOS</td>\n",
       "      <td>ABEMACICLIBE</td>\n",
       "    </tr>\n",
       "    <tr>\n",
       "      <th>14</th>\n",
       "      <td>CIBINQO</td>\n",
       "      <td>ABROCITINIBE</td>\n",
       "    </tr>\n",
       "    <tr>\n",
       "      <th>...</th>\n",
       "      <td>...</td>\n",
       "      <td>...</td>\n",
       "    </tr>\n",
       "    <tr>\n",
       "      <th>29312</th>\n",
       "      <td>ACCUVIT</td>\n",
       "      <td>ÓXIDO CÚPRICO;SELENATO DE SÓDIO;ACETATO DE RAC...</td>\n",
       "    </tr>\n",
       "    <tr>\n",
       "      <th>29313</th>\n",
       "      <td>SIMECO PLUS</td>\n",
       "      <td>ÓXIDO DE MAGNÉSIO;SIMETICONA;HIDRÓXIDO DE ALUM...</td>\n",
       "    </tr>\n",
       "    <tr>\n",
       "      <th>29314</th>\n",
       "      <td>VITAGLÓS</td>\n",
       "      <td>ÓXIDO DE ZINCO</td>\n",
       "    </tr>\n",
       "    <tr>\n",
       "      <th>29316</th>\n",
       "      <td>PRATIGLÓS</td>\n",
       "      <td>ÓXIDO DE ZINCO;RETINOL;COLECALCIFEROL</td>\n",
       "    </tr>\n",
       "    <tr>\n",
       "      <th>29317</th>\n",
       "      <td>VITER C + ZN</td>\n",
       "      <td>ÓXIDO DE ZINCO;ÁCIDO ASCÓRBICO</td>\n",
       "    </tr>\n",
       "  </tbody>\n",
       "</table>\n",
       "<p>6953 rows × 2 columns</p>\n",
       "</div>"
      ],
      "text/plain": [
       "      nome_comercial                                    principio_ativo\n",
       "0         BAYCUTEN N             21-ACETATO DE DEXAMETASONA;CLOTRIMAZOL\n",
       "1            ORENCIA                                         ABATACEPTE\n",
       "4             REOPRO                                         ABCIXIMABE\n",
       "6          VERZENIOS                                       ABEMACICLIBE\n",
       "14           CIBINQO                                       ABROCITINIBE\n",
       "...              ...                                                ...\n",
       "29312        ACCUVIT  ÓXIDO CÚPRICO;SELENATO DE SÓDIO;ACETATO DE RAC...\n",
       "29313    SIMECO PLUS  ÓXIDO DE MAGNÉSIO;SIMETICONA;HIDRÓXIDO DE ALUM...\n",
       "29314       VITAGLÓS                                     ÓXIDO DE ZINCO\n",
       "29316      PRATIGLÓS              ÓXIDO DE ZINCO;RETINOL;COLECALCIFEROL\n",
       "29317   VITER C + ZN                     ÓXIDO DE ZINCO;ÁCIDO ASCÓRBICO\n",
       "\n",
       "[6953 rows x 2 columns]"
      ]
     },
     "execution_count": 45,
     "metadata": {},
     "output_type": "execute_result"
    }
   ],
   "source": [
    "anvisa = pandas.read_csv('AVISA.csv', sep=';')\n",
    "anvisa = anvisa[['nome_comercial','principio_ativo']]\n",
    "anvisa.drop_duplicates(inplace=True)\n",
    "anvisa"
   ]
  },
  {
   "cell_type": "markdown",
   "metadata": {},
   "source": [
    "## Generating dictionary to map the correct commercial names"
   ]
  },
  {
   "cell_type": "code",
   "execution_count": 46,
   "metadata": {},
   "outputs": [],
   "source": [
    "# Dictionary to store the results\n",
    "mapping_nome_comercial = {}\n",
    "\n",
    "# Loop to map the commercial names from the Anvisa DataFrame to the list of possible names\n",
    "for nome_anvisa in anvisa['nome_comercial'].tolist():\n",
    "    for lista in listas_combinadas:\n",
    "        if nome_anvisa in lista:\n",
    "            mapping_nome_comercial[nome_anvisa] = lista"
   ]
  },
  {
   "cell_type": "markdown",
   "metadata": {},
   "source": [
    "## Generating dictionary to map the correct active ingredients"
   ]
  },
  {
   "cell_type": "code",
   "execution_count": 47,
   "metadata": {},
   "outputs": [
    {
     "data": {
      "text/plain": [
       "{'ZYTIGA': ['ZITIGA', 'ZYTIGA'],\n",
       " 'XTANDI': ['XTADI', 'XTANDI'],\n",
       " 'ESILATO DE NINTEDANIBE': ['ESILATO DE NINTEDANIBE',\n",
       "  'ESTILATO DE NINTEDANIBE'],\n",
       " 'SUTENT': ['SUTENT', 'SUSTENT'],\n",
       " 'TEMOZOLOMIDA': ['TEMOZOLAMIDA', 'TEMOZOLOMIDA', 'TEMOZOLAMINA'],\n",
       " 'FORTEO': ['FORTÉO', 'FORTEO'],\n",
       " 'ADALIMUMABE': ['ADALIMUMABE', 'ADALIMIMABE'],\n",
       " 'BEVACIZUMABE': ['BEVACIZUMAB', 'BEVACIZUMABE'],\n",
       " 'CETUXIMABE': ['CETUXIMAB', 'CETUXIMABE'],\n",
       " 'NUSINERSENA': ['NUSINERSEN', 'NUSINERSENA'],\n",
       " 'OBINUTUZUMABE': ['OBINUTUZUMABE', 'OBINUTUZUMAB'],\n",
       " 'OCTREOTIDA': ['OCTREOTIDA', 'OCTREOTIDE']}"
      ]
     },
     "execution_count": 47,
     "metadata": {},
     "output_type": "execute_result"
    }
   ],
   "source": [
    "# Dictionary to store the results\n",
    "mapping_principio_ativo = {}\n",
    "\n",
    "# Loop to map the active ingredients from the Anvisa DataFrame to the list of possible names\n",
    "for nome_anvisa in anvisa['principio_ativo'].tolist():\n",
    "    for lista in listas_combinadas:\n",
    "        if nome_anvisa in lista:\n",
    "            mapping_principio_ativo[nome_anvisa] = lista\n",
    "\n",
    "# Combining the two dictionaries\n",
    "mapping_farmacos = mapping_nome_comercial | mapping_principio_ativo\n",
    "mapping_farmacos"
   ]
  },
  {
   "cell_type": "markdown",
   "metadata": {},
   "source": [
    "### The following code is used to remove drugs that have one letter difference and are on the Anvisa list, indicating that there is no typing error"
   ]
  },
  {
   "cell_type": "code",
   "execution_count": 48,
   "metadata": {},
   "outputs": [],
   "source": [
    "# Inverting the dictionary to have lists as keys and original keys as values\n",
    "inverted_dict = {}\n",
    "for chave, valores in mapping_farmacos.items():\n",
    "    valores_tupla = tuple(valores)\n",
    "    if valores_tupla not in inverted_dict:\n",
    "        inverted_dict[valores_tupla] = [chave]\n",
    "    else:\n",
    "        inverted_dict[valores_tupla].append(chave)\n",
    "\n",
    "# Removing duplicate lists\n",
    "for valores, chaves in inverted_dict.items():\n",
    "    if len(chaves) > 1:\n",
    "        for chave in chaves[1:]:\n",
    "            del mapping_farmacos[chave]"
   ]
  },
  {
   "cell_type": "markdown",
   "metadata": {},
   "source": [
    "## Correction dictionary\n",
    "\n",
    "Now we have the dict to fix the typing errors"
   ]
  },
  {
   "cell_type": "code",
   "execution_count": 49,
   "metadata": {},
   "outputs": [
    {
     "data": {
      "text/plain": [
       "{'ZITIGA': 'ZYTIGA',\n",
       " 'XTADI': 'XTANDI',\n",
       " 'ESTILATO DE NINTEDANIBE': 'ESILATO DE NINTEDANIBE',\n",
       " 'SUSTENT': 'SUTENT',\n",
       " 'TEMOZOLAMIDA': 'TEMOZOLOMIDA',\n",
       " 'TEMOZOLAMINA': 'TEMOZOLOMIDA',\n",
       " 'FORTÉO': 'FORTEO',\n",
       " 'ADALIMIMABE': 'ADALIMUMABE',\n",
       " 'BEVACIZUMAB': 'BEVACIZUMABE',\n",
       " 'CETUXIMAB': 'CETUXIMABE',\n",
       " 'NUSINERSEN': 'NUSINERSENA',\n",
       " 'OBINUTUZUMAB': 'OBINUTUZUMABE',\n",
       " 'OCTREOTIDE': 'OCTREOTIDA'}"
      ]
     },
     "execution_count": 49,
     "metadata": {},
     "output_type": "execute_result"
    }
   ],
   "source": [
    "dicionario_correcao = {}\n",
    "for chave, valores in mapping_farmacos.items():\n",
    "    for valor in valores:\n",
    "        if valor != chave:\n",
    "            dicionario_correcao[valor] = chave\n",
    "\n",
    "dicionario_correcao"
   ]
  },
  {
   "cell_type": "markdown",
   "metadata": {},
   "source": [
    "# Fixing the dataset labels"
   ]
  },
  {
   "cell_type": "code",
   "execution_count": 50,
   "metadata": {},
   "outputs": [],
   "source": [
    "# Function to fix drug names according to the dictionary\n",
    "def corrigir_medicamentos(lista_medicamentos):\n",
    "    lista_corrigida = lista_medicamentos.copy()  # Create a copy of the list data\n",
    "    for i, medicamento in enumerate(lista_corrigida):\n",
    "        if medicamento in dicionario_correcao:\n",
    "            lista_corrigida[i] = dicionario_correcao[medicamento]\n",
    "    return lista_corrigida\n",
    "\n",
    "# Applying the function to the DataFrame's medicine column\n",
    "df['farmacos_corrigidos'] = df['Farmacos']\n",
    "df['farmacos_corrigidos'] = df['farmacos_corrigidos'].apply(corrigir_medicamentos)\n"
   ]
  },
  {
   "cell_type": "code",
   "execution_count": 51,
   "metadata": {},
   "outputs": [
    {
     "data": {
      "text/plain": [
       "722"
      ]
     },
     "execution_count": 51,
     "metadata": {},
     "output_type": "execute_result"
    }
   ],
   "source": [
    "# Total number of labels in the dataset\n",
    "num_total_farmacos_corrigidos = df['farmacos_corrigidos'].apply(len).sum()\n",
    "num_total_farmacos_corrigidos"
   ]
  },
  {
   "cell_type": "code",
   "execution_count": 52,
   "metadata": {},
   "outputs": [
    {
     "data": {
      "text/plain": [
       "172"
      ]
     },
     "execution_count": 52,
     "metadata": {},
     "output_type": "execute_result"
    }
   ],
   "source": [
    "#Remove the empty labels lists\n",
    "farmacos_unic = lista_farmacos_unicos(df['farmacos_corrigidos'])\n",
    "#Print the number of unic labels\n",
    "len(farmacos_unic)\n",
    "#The number of unic labels reduced from 185 to 172 in consequence of the replacement of the names with spelling errors"
   ]
  },
  {
   "cell_type": "code",
   "execution_count": 53,
   "metadata": {},
   "outputs": [
    {
     "data": {
      "text/plain": [
       "226"
      ]
     },
     "execution_count": 53,
     "metadata": {},
     "output_type": "execute_result"
    }
   ],
   "source": [
    "dicionario_principios_ativos = anvisa.set_index('principio_ativo')['nome_comercial'].to_dict()\n",
    "\n",
    "#Function to count the number of active ingredients in the dataset labels\n",
    "def count_principios_ativos(df):\n",
    "    principios_ativos = []\n",
    "    for index,row in df.iterrows():\n",
    "        for farmaco in row['farmacos_corrigidos']:\n",
    "            if farmaco in dicionario_principios_ativos:\n",
    "                principios_ativos.append(farmaco)\n",
    "    return principios_ativos\n",
    "\n",
    "principios_ativos = count_principios_ativos(df)\n",
    "len(principios_ativos)"
   ]
  },
  {
   "cell_type": "code",
   "execution_count": 54,
   "metadata": {},
   "outputs": [
    {
     "data": {
      "text/plain": [
       "22"
      ]
     },
     "execution_count": 54,
     "metadata": {},
     "output_type": "execute_result"
    }
   ],
   "source": [
    "#Print the number of unique active ingredients\n",
    "principios_ativos_unic = lista_farmacos_unicos(principios_ativos)\n",
    "len(principios_ativos_unic)"
   ]
  },
  {
   "cell_type": "markdown",
   "metadata": {},
   "source": [
    "## Replacement of the active ingredient with a commercial name using the Anvisa table"
   ]
  },
  {
   "cell_type": "code",
   "execution_count": 55,
   "metadata": {},
   "outputs": [],
   "source": [
    "# Generating a dictionary to replace the active ingredient with the commercial name\n",
    "dicionario_principios_ativos = anvisa.set_index('principio_ativo')['nome_comercial'].to_dict()\n",
    "\n",
    "# Function to replace active ingredient in the drug column\n",
    "def corrigir_farmacos(row):\n",
    "    farmacos_corrigidos = []\n",
    "    for farmaco in row['farmacos_corrigidos']:\n",
    "        if farmaco in dicionario_principios_ativos:\n",
    "            farmacos_corrigidos.append(dicionario_principios_ativos[farmaco])\n",
    "        else:\n",
    "            farmacos_corrigidos.append(farmaco)\n",
    "    return farmacos_corrigidos\n",
    "\n",
    "# Applying the correction to the ataset\n",
    "df['farmacos_final'] = df.apply(corrigir_farmacos, axis=1)\n"
   ]
  },
  {
   "cell_type": "code",
   "execution_count": 56,
   "metadata": {},
   "outputs": [
    {
     "data": {
      "text/plain": [
       "149"
      ]
     },
     "execution_count": 56,
     "metadata": {},
     "output_type": "execute_result"
    }
   ],
   "source": [
    "#Print the number of unique labels\n",
    "farmacos_unic = lista_farmacos_unicos(df['farmacos_final'])\n",
    "#Remove os rótulos vazios\n",
    "len(farmacos_unic)"
   ]
  },
  {
   "cell_type": "markdown",
   "metadata": {},
   "source": [
    "# Results\n",
    "\n",
    "The redunant labels were removed. The number of unique labels decreased from 185 to 149. That is almost 20%.\n",
    "\n",
    "Now, the labels colunms contains only commercial names."
   ]
  },
  {
   "cell_type": "code",
   "execution_count": 57,
   "metadata": {},
   "outputs": [
    {
     "data": {
      "text/html": [
       "<div>\n",
       "<style scoped>\n",
       "    .dataframe tbody tr th:only-of-type {\n",
       "        vertical-align: middle;\n",
       "    }\n",
       "\n",
       "    .dataframe tbody tr th {\n",
       "        vertical-align: top;\n",
       "    }\n",
       "\n",
       "    .dataframe thead th {\n",
       "        text-align: right;\n",
       "    }\n",
       "</style>\n",
       "<table border=\"1\" class=\"dataframe\">\n",
       "  <thead>\n",
       "    <tr style=\"text-align: right;\">\n",
       "      <th></th>\n",
       "      <th>id</th>\n",
       "      <th>text</th>\n",
       "      <th>Farmacos</th>\n",
       "      <th>farmacos_corrigidos</th>\n",
       "      <th>farmacos_final</th>\n",
       "    </tr>\n",
       "  </thead>\n",
       "  <tbody>\n",
       "    <tr>\n",
       "      <th>0</th>\n",
       "      <td>4031</td>\n",
       "      <td>.sentença nº. /2017 - tipo: bpje n º. 0804317-...</td>\n",
       "      <td>[FRATURAS, FORTÉO, TERIPARATIDA DERIVADA DE, F...</td>\n",
       "      <td>[FRATURAS, FORTEO, TERIPARATIDA DERIVADA DE, F...</td>\n",
       "      <td>[FRATURAS, FORTEO, TERIPARATIDA DERIVADA DE, F...</td>\n",
       "    </tr>\n",
       "    <tr>\n",
       "      <th>1</th>\n",
       "      <td>4032</td>\n",
       "      <td>processo nº: 0809729-87.2020.4.05.8100 - proce...</td>\n",
       "      <td>[]</td>\n",
       "      <td>[]</td>\n",
       "      <td>[]</td>\n",
       "    </tr>\n",
       "    <tr>\n",
       "      <th>2</th>\n",
       "      <td>4033</td>\n",
       "      <td>pessoa humana, uma vez que se encontra intimam...</td>\n",
       "      <td>[SANDOSTATIN]</td>\n",
       "      <td>[SANDOSTATIN]</td>\n",
       "      <td>[SANDOSTATIN]</td>\n",
       "    </tr>\n",
       "    <tr>\n",
       "      <th>3</th>\n",
       "      <td>4034</td>\n",
       "      <td>sentença/2017 - tipo bprocesso: 0806234-74.201...</td>\n",
       "      <td>[ZYTIGA]</td>\n",
       "      <td>[ZYTIGA]</td>\n",
       "      <td>[ZYTIGA]</td>\n",
       "    </tr>\n",
       "    <tr>\n",
       "      <th>4</th>\n",
       "      <td>4035</td>\n",
       "      <td>aos municípios para o pagamento de ações e ser...</td>\n",
       "      <td>[PEGVISOMANTO]</td>\n",
       "      <td>[PEGVISOMANTO]</td>\n",
       "      <td>[SOMAVERT]</td>\n",
       "    </tr>\n",
       "    <tr>\n",
       "      <th>...</th>\n",
       "      <td>...</td>\n",
       "      <td>...</td>\n",
       "      <td>...</td>\n",
       "      <td>...</td>\n",
       "      <td>...</td>\n",
       "    </tr>\n",
       "    <tr>\n",
       "      <th>395</th>\n",
       "      <td>4426</td>\n",
       "      <td>presença cumulativa dos seguintes requisitos: ...</td>\n",
       "      <td>[VIDAZA, AZACITIDINA]</td>\n",
       "      <td>[VIDAZA, AZACITIDINA]</td>\n",
       "      <td>[VIDAZA, XPREZA]</td>\n",
       "    </tr>\n",
       "    <tr>\n",
       "      <th>396</th>\n",
       "      <td>4427</td>\n",
       "      <td>processo nº: 0802964-42.2016.4.05.8100 - proce...</td>\n",
       "      <td>[RITUXIMABE, RITUXIMABE, MABTHERA]</td>\n",
       "      <td>[RITUXIMABE, RITUXIMABE, MABTHERA]</td>\n",
       "      <td>[TRUXIMA, TRUXIMA, MABTHERA]</td>\n",
       "    </tr>\n",
       "    <tr>\n",
       "      <th>397</th>\n",
       "      <td>4428</td>\n",
       "      <td>poder judiciário justiça federal de primeiro g...</td>\n",
       "      <td>[REVOLADE, ELTROMBOPAG, REVOLADE]</td>\n",
       "      <td>[REVOLADE, ELTROMBOPAG, REVOLADE]</td>\n",
       "      <td>[REVOLADE, ELTROMBOPAG, REVOLADE]</td>\n",
       "    </tr>\n",
       "    <tr>\n",
       "      <th>398</th>\n",
       "      <td>4429</td>\n",
       "      <td>na constituição federal. o ponto turbulento re...</td>\n",
       "      <td>[ZYTIGA]</td>\n",
       "      <td>[ZYTIGA]</td>\n",
       "      <td>[ZYTIGA]</td>\n",
       "    </tr>\n",
       "    <tr>\n",
       "      <th>399</th>\n",
       "      <td>4430</td>\n",
       "      <td>esclerose múltipla    forma remitente recor...</td>\n",
       "      <td>[NATALIZUMABE, OCREVUS]</td>\n",
       "      <td>[NATALIZUMABE, OCREVUS]</td>\n",
       "      <td>[TYSABRI, OCREVUS]</td>\n",
       "    </tr>\n",
       "  </tbody>\n",
       "</table>\n",
       "<p>400 rows × 5 columns</p>\n",
       "</div>"
      ],
      "text/plain": [
       "       id                                               text  \\\n",
       "0    4031  .sentença nº. /2017 - tipo: bpje n º. 0804317-...   \n",
       "1    4032  processo nº: 0809729-87.2020.4.05.8100 - proce...   \n",
       "2    4033  pessoa humana, uma vez que se encontra intimam...   \n",
       "3    4034  sentença/2017 - tipo bprocesso: 0806234-74.201...   \n",
       "4    4035  aos municípios para o pagamento de ações e ser...   \n",
       "..    ...                                                ...   \n",
       "395  4426  presença cumulativa dos seguintes requisitos: ...   \n",
       "396  4427  processo nº: 0802964-42.2016.4.05.8100 - proce...   \n",
       "397  4428  poder judiciário justiça federal de primeiro g...   \n",
       "398  4429  na constituição federal. o ponto turbulento re...   \n",
       "399  4430     esclerose múltipla    forma remitente recor...   \n",
       "\n",
       "                                              Farmacos  \\\n",
       "0    [FRATURAS, FORTÉO, TERIPARATIDA DERIVADA DE, F...   \n",
       "1                                                   []   \n",
       "2                                        [SANDOSTATIN]   \n",
       "3                                             [ZYTIGA]   \n",
       "4                                       [PEGVISOMANTO]   \n",
       "..                                                 ...   \n",
       "395                              [VIDAZA, AZACITIDINA]   \n",
       "396                 [RITUXIMABE, RITUXIMABE, MABTHERA]   \n",
       "397                  [REVOLADE, ELTROMBOPAG, REVOLADE]   \n",
       "398                                           [ZYTIGA]   \n",
       "399                            [NATALIZUMABE, OCREVUS]   \n",
       "\n",
       "                                   farmacos_corrigidos  \\\n",
       "0    [FRATURAS, FORTEO, TERIPARATIDA DERIVADA DE, F...   \n",
       "1                                                   []   \n",
       "2                                        [SANDOSTATIN]   \n",
       "3                                             [ZYTIGA]   \n",
       "4                                       [PEGVISOMANTO]   \n",
       "..                                                 ...   \n",
       "395                              [VIDAZA, AZACITIDINA]   \n",
       "396                 [RITUXIMABE, RITUXIMABE, MABTHERA]   \n",
       "397                  [REVOLADE, ELTROMBOPAG, REVOLADE]   \n",
       "398                                           [ZYTIGA]   \n",
       "399                            [NATALIZUMABE, OCREVUS]   \n",
       "\n",
       "                                        farmacos_final  \n",
       "0    [FRATURAS, FORTEO, TERIPARATIDA DERIVADA DE, F...  \n",
       "1                                                   []  \n",
       "2                                        [SANDOSTATIN]  \n",
       "3                                             [ZYTIGA]  \n",
       "4                                           [SOMAVERT]  \n",
       "..                                                 ...  \n",
       "395                                   [VIDAZA, XPREZA]  \n",
       "396                       [TRUXIMA, TRUXIMA, MABTHERA]  \n",
       "397                  [REVOLADE, ELTROMBOPAG, REVOLADE]  \n",
       "398                                           [ZYTIGA]  \n",
       "399                                 [TYSABRI, OCREVUS]  \n",
       "\n",
       "[400 rows x 5 columns]"
      ]
     },
     "execution_count": 57,
     "metadata": {},
     "output_type": "execute_result"
    }
   ],
   "source": [
    "df"
   ]
  }
 ],
 "metadata": {
  "kernelspec": {
   "display_name": "Python 3",
   "language": "python",
   "name": "python3"
  },
  "language_info": {
   "codemirror_mode": {
    "name": "ipython",
    "version": 3
   },
   "file_extension": ".py",
   "mimetype": "text/x-python",
   "name": "python",
   "nbconvert_exporter": "python",
   "pygments_lexer": "ipython3",
   "version": "3.11.9"
  }
 },
 "nbformat": 4,
 "nbformat_minor": 2
}
